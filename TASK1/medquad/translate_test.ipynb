{
 "cells": [
  {
   "cell_type": "code",
   "execution_count": 6,
   "metadata": {},
   "outputs": [
    {
     "name": "stdout",
     "output_type": "stream",
     "text": [
      "Requirement already satisfied: langdetect in c:\\users\\shriy\\downloads\\nullclass_intern\\task1\\vlang\\lib\\site-packages (1.0.9)\n",
      "Requirement already satisfied: googletrans in c:\\users\\shriy\\downloads\\nullclass_intern\\task1\\vlang\\lib\\site-packages (4.0.0rc1)\n",
      "Requirement already satisfied: six in c:\\users\\shriy\\downloads\\nullclass_intern\\task1\\vlang\\lib\\site-packages (from langdetect) (1.16.0)\n",
      "Requirement already satisfied: httpx==0.13.3 in c:\\users\\shriy\\downloads\\nullclass_intern\\task1\\vlang\\lib\\site-packages (from googletrans) (0.13.3)\n",
      "Requirement already satisfied: rfc3986<2,>=1.3 in c:\\users\\shriy\\downloads\\nullclass_intern\\task1\\vlang\\lib\\site-packages (from httpx==0.13.3->googletrans) (1.5.0)\n",
      "Requirement already satisfied: chardet==3.* in c:\\users\\shriy\\downloads\\nullclass_intern\\task1\\vlang\\lib\\site-packages (from httpx==0.13.3->googletrans) (3.0.4)\n",
      "Requirement already satisfied: hstspreload in c:\\users\\shriy\\downloads\\nullclass_intern\\task1\\vlang\\lib\\site-packages (from httpx==0.13.3->googletrans) (2024.8.1)\n",
      "Requirement already satisfied: certifi in c:\\users\\shriy\\downloads\\nullclass_intern\\task1\\vlang\\lib\\site-packages (from httpx==0.13.3->googletrans) (2024.7.4)\n",
      "Requirement already satisfied: sniffio in c:\\users\\shriy\\downloads\\nullclass_intern\\task1\\vlang\\lib\\site-packages (from httpx==0.13.3->googletrans) (1.3.1)\n",
      "Requirement already satisfied: idna==2.* in c:\\users\\shriy\\downloads\\nullclass_intern\\task1\\vlang\\lib\\site-packages (from httpx==0.13.3->googletrans) (2.10)\n",
      "Requirement already satisfied: httpcore==0.9.* in c:\\users\\shriy\\downloads\\nullclass_intern\\task1\\vlang\\lib\\site-packages (from httpx==0.13.3->googletrans) (0.9.1)\n",
      "Requirement already satisfied: h11<0.10,>=0.8 in c:\\users\\shriy\\downloads\\nullclass_intern\\task1\\vlang\\lib\\site-packages (from httpcore==0.9.*->httpx==0.13.3->googletrans) (0.9.0)\n",
      "Requirement already satisfied: h2==3.* in c:\\users\\shriy\\downloads\\nullclass_intern\\task1\\vlang\\lib\\site-packages (from httpcore==0.9.*->httpx==0.13.3->googletrans) (3.2.0)\n",
      "Requirement already satisfied: hpack<4,>=3.0 in c:\\users\\shriy\\downloads\\nullclass_intern\\task1\\vlang\\lib\\site-packages (from h2==3.*->httpcore==0.9.*->httpx==0.13.3->googletrans) (3.0.0)\n",
      "Requirement already satisfied: hyperframe<6,>=5.2.0 in c:\\users\\shriy\\downloads\\nullclass_intern\\task1\\vlang\\lib\\site-packages (from h2==3.*->httpcore==0.9.*->httpx==0.13.3->googletrans) (5.2.0)\n"
     ]
    },
    {
     "name": "stderr",
     "output_type": "stream",
     "text": [
      "WARNING: You are using pip version 22.0.4; however, version 24.2 is available.\n",
      "You should consider upgrading via the 'C:\\Users\\shriy\\Downloads\\nullclass_intern\\TASK1\\vlang\\Scripts\\python.exe -m pip install --upgrade pip' command.\n"
     ]
    }
   ],
   "source": [
    "!pip install langdetect googletrans"
   ]
  },
  {
   "cell_type": "code",
   "execution_count": 2,
   "metadata": {},
   "outputs": [
    {
     "name": "stdout",
     "output_type": "stream",
     "text": [
      "es\n"
     ]
    }
   ],
   "source": [
    "from langdetect import detect\n",
    "tst=\"hola, cómo estás\"\n",
    "result = detect(tst)\n",
    "print(result)"
   ]
  },
  {
   "cell_type": "code",
   "execution_count": 5,
   "metadata": {},
   "outputs": [
    {
     "name": "stdout",
     "output_type": "stream",
     "text": [
      "es\n",
      "Los tratamientos para la hipocondroplasia incluyen:\n",
      "\n",
      "Abordar las preocupaciones de los padres sobre la estatura corta: esto a menudo implica proporcionar información y apoyo en lugar de intentar tratar la altura del niño directamente.\n",
      "Intervención del desarrollo y educación especial: estos pueden ser apropiados si el individuo requiere apoyo adicional.\n",
      "Laminectomía: esta cirugía puede aliviar la presión sobre los nervios espinales o el canal espinal en casos de estenosis espinal.\n",
      "Descompresión: un procedimiento menos invasivo que la laminectomía, la descompresión también puede proporcionar alivio a los síntomas de la estenosis espinal.\n",
      "Grupos de apoyo: estos ofrecen programas de apoyo, información y conciencia social para ayudar a las personas y las familias a adaptarse a la estatura corta.\n",
      "Manejo de las características de achondroplasia: En los casos en que las características de hipocondroplasia se superponen con acondroplasia, se pueden considerar las recomendaciones para manejar la acondroplasia.\n",
      "El contexto proporcionado enfatiza abordar las preocupaciones de los padres y brindar apoyo en lugar de centrarse en tratar directamente la estatura corta en sí.\n"
     ]
    }
   ],
   "source": [
    "from googletrans import Translator\n",
    "\n",
    "translator = Translator()\n",
    "y=translator.detect('Estos recursos abordan el diagnóstico o manejo de la mucopolisacáridosis tipo IV: ')\n",
    "print(y.lang)\n",
    "x=translator.translate('''The treatments for hypochondroplasia include:\n",
    "\n",
    "Addressing parental concerns about short stature: This often involves providing information and support rather than attempting to treat the child's height directly.\n",
    "Developmental intervention and special education: These may be appropriate if the individual requires additional support.\n",
    "Laminectomy: This surgery can relieve pressure on the spinal nerves or spinal canal in cases of spinal stenosis.\n",
    "Decompression: A less invasive procedure than laminectomy, decompression can also provide relief for spinal stenosis symptoms.\n",
    "Support groups: These offer peer support, information, and social awareness programs to help individuals and families adjust to short stature.\n",
    "Management of achondroplasia features: In cases where hypochondroplasia features overlap with achondroplasia, the recommendations for managing achondroplasia may be considered.\n",
    "The provided context emphasizes addressing parental concerns and providing support rather than focusing on directly treating the short stature itself.''',dest='es')\n",
    "print(x.text)"
   ]
  },
  {
   "cell_type": "code",
   "execution_count": 17,
   "metadata": {},
   "outputs": [
    {
     "name": "stdout",
     "output_type": "stream",
     "text": [
      "es\n",
      "Addressing parents' concerns about short stature: this often implies providing information and support instead of trying to treat the child's height directly.\n",
      "send to chatbot\n",
      "Abordar las preocupaciones de los padres sobre la estatura corta: esto a menudo implica proporcionar información y apoyo en lugar de tratar de tratar la altura del niño directamente.\n"
     ]
    }
   ],
   "source": [
    "query = \"Abordar las preocupaciones de los padres sobre la estatura corta: esto a menudo implica proporcionar información y apoyo en lugar de intentar tratar la altura del niño directamente.\"\n",
    "translator = Translator()\n",
    "user = translator.detect(query)\n",
    "userlang = user.lang\n",
    "print(userlang)\n",
    "userip=translator.translate(query,dest='en')\n",
    "usertxt =userip.text\n",
    "print(userip.text)\n",
    "print('send to chatbot')\n",
    "z=translator.translate(usertxt,dest=userlang)\n",
    "print(z.text)"
   ]
  }
 ],
 "metadata": {
  "kernelspec": {
   "display_name": "vlang",
   "language": "python",
   "name": "python3"
  },
  "language_info": {
   "codemirror_mode": {
    "name": "ipython",
    "version": 3
   },
   "file_extension": ".py",
   "mimetype": "text/x-python",
   "name": "python",
   "nbconvert_exporter": "python",
   "pygments_lexer": "ipython3",
   "version": "3.9.13"
  }
 },
 "nbformat": 4,
 "nbformat_minor": 2
}
